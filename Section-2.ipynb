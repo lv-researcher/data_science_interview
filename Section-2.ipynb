{
 "cells": [
  {
   "cell_type": "code",
   "execution_count": 13,
   "metadata": {},
   "outputs": [],
   "source": [
    "import warnings\n",
    "warnings.filterwarnings('ignore')\n",
    "\n",
    "import matplotlib.pyplot as plt\n",
    "import seaborn as sns\n",
    "\n",
    "import numpy as np\n",
    "np.random.seed(7) # fix random seed for reproducibility\n",
    "\n",
    "from keras.models import Sequential\n",
    "from keras.layers import Dense, Dropout\n",
    "\n",
    "from sklearn.metrics import roc_curve, auc\n",
    "from sklearn.model_selection import StratifiedKFold\n",
    "from sklearn.preprocessing import StandardScaler\n",
    "\n",
    "import pandas as pd\n"
   ]
  },
  {
   "cell_type": "markdown",
   "metadata": {},
   "source": [
    "# Section 2\n",
    "\n",
    "### Build a classifier which has the aim of predicting the categorical variable in the data set found in section 1."
   ]
  },
  {
   "cell_type": "markdown",
   "metadata": {},
   "source": [
    "###  Q1) You are free to choose any Machine Learning algorithm to produce a classifier\n",
    "\n",
    "Below I use a shallow and wide neural network to predict Variable 11.\n",
    "\n",
    "It achieves a prediction accuracy of ~86%.\n",
    "\n",
    "From the correlation matrix in Section 1, there is a clear non-linear structure to the data. With category 'g' looking like a 'smaller' variant of 'h'. \n",
    "\n",
    "I assumed that a neural net would be efficient at handling the strong nonlinear relationships.\n",
    "\n",
    "After experimenting with various sequential networks, different data pre-processing and batch sizes, I found a simple 2-layer network [rectifier, sigmoid] gave the best results.\n",
    "\n",
    "I discuss other possible avenues to improve the model below.\n"
   ]
  },
  {
   "cell_type": "markdown",
   "metadata": {},
   "source": [
    "## Read in the data"
   ]
  },
  {
   "cell_type": "code",
   "execution_count": 2,
   "metadata": {
    "collapsed": true
   },
   "outputs": [],
   "source": [
    "df = pd.read_csv('MM.data', header=None)"
   ]
  },
  {
   "cell_type": "code",
   "execution_count": 3,
   "metadata": {
    "collapsed": true
   },
   "outputs": [],
   "source": [
    "# add column names\n",
    "newcols = {}\n",
    "for col in df.columns:\n",
    "    newcols[col] = 'V{}'.format(col+1)\n",
    "df.rename(index=str, columns=newcols, inplace=True)    "
   ]
  },
  {
   "cell_type": "code",
   "execution_count": 4,
   "metadata": {},
   "outputs": [
    {
     "data": {
      "text/html": [
       "<div>\n",
       "<style>\n",
       "    .dataframe thead tr:only-child th {\n",
       "        text-align: right;\n",
       "    }\n",
       "\n",
       "    .dataframe thead th {\n",
       "        text-align: left;\n",
       "    }\n",
       "\n",
       "    .dataframe tbody tr th {\n",
       "        vertical-align: top;\n",
       "    }\n",
       "</style>\n",
       "<table border=\"1\" class=\"dataframe\">\n",
       "  <thead>\n",
       "    <tr style=\"text-align: right;\">\n",
       "      <th></th>\n",
       "      <th>V1</th>\n",
       "      <th>V2</th>\n",
       "      <th>V3</th>\n",
       "      <th>V4</th>\n",
       "      <th>V5</th>\n",
       "      <th>V6</th>\n",
       "      <th>V7</th>\n",
       "      <th>V8</th>\n",
       "      <th>V9</th>\n",
       "      <th>V10</th>\n",
       "      <th>y</th>\n",
       "    </tr>\n",
       "  </thead>\n",
       "  <tbody>\n",
       "    <tr>\n",
       "      <th>0</th>\n",
       "      <td>34.6908</td>\n",
       "      <td>11.2351</td>\n",
       "      <td>2.5004</td>\n",
       "      <td>0.3791</td>\n",
       "      <td>0.1975</td>\n",
       "      <td>-35.4735</td>\n",
       "      <td>21.2479</td>\n",
       "      <td>-7.7418</td>\n",
       "      <td>10.6120</td>\n",
       "      <td>152.891</td>\n",
       "      <td>0</td>\n",
       "    </tr>\n",
       "    <tr>\n",
       "      <th>1</th>\n",
       "      <td>20.2065</td>\n",
       "      <td>9.0614</td>\n",
       "      <td>2.3424</td>\n",
       "      <td>0.6273</td>\n",
       "      <td>0.3886</td>\n",
       "      <td>22.1011</td>\n",
       "      <td>12.9607</td>\n",
       "      <td>3.5576</td>\n",
       "      <td>33.3900</td>\n",
       "      <td>215.372</td>\n",
       "      <td>0</td>\n",
       "    </tr>\n",
       "    <tr>\n",
       "      <th>2</th>\n",
       "      <td>79.2821</td>\n",
       "      <td>27.9011</td>\n",
       "      <td>3.1173</td>\n",
       "      <td>0.2756</td>\n",
       "      <td>0.1416</td>\n",
       "      <td>-17.0897</td>\n",
       "      <td>-29.9275</td>\n",
       "      <td>-12.9796</td>\n",
       "      <td>5.1600</td>\n",
       "      <td>324.141</td>\n",
       "      <td>0</td>\n",
       "    </tr>\n",
       "    <tr>\n",
       "      <th>3</th>\n",
       "      <td>23.3897</td>\n",
       "      <td>10.0375</td>\n",
       "      <td>2.6217</td>\n",
       "      <td>0.5830</td>\n",
       "      <td>0.3214</td>\n",
       "      <td>26.0773</td>\n",
       "      <td>20.5688</td>\n",
       "      <td>7.5347</td>\n",
       "      <td>19.8253</td>\n",
       "      <td>132.785</td>\n",
       "      <td>0</td>\n",
       "    </tr>\n",
       "    <tr>\n",
       "      <th>4</th>\n",
       "      <td>33.7801</td>\n",
       "      <td>14.7812</td>\n",
       "      <td>2.4378</td>\n",
       "      <td>0.4526</td>\n",
       "      <td>0.2646</td>\n",
       "      <td>-34.2524</td>\n",
       "      <td>-19.3872</td>\n",
       "      <td>-10.7488</td>\n",
       "      <td>66.7550</td>\n",
       "      <td>144.690</td>\n",
       "      <td>1</td>\n",
       "    </tr>\n",
       "  </tbody>\n",
       "</table>\n",
       "</div>"
      ],
      "text/plain": [
       "        V1       V2      V3      V4      V5       V6       V7       V8  \\\n",
       "0  34.6908  11.2351  2.5004  0.3791  0.1975 -35.4735  21.2479  -7.7418   \n",
       "1  20.2065   9.0614  2.3424  0.6273  0.3886  22.1011  12.9607   3.5576   \n",
       "2  79.2821  27.9011  3.1173  0.2756  0.1416 -17.0897 -29.9275 -12.9796   \n",
       "3  23.3897  10.0375  2.6217  0.5830  0.3214  26.0773  20.5688   7.5347   \n",
       "4  33.7801  14.7812  2.4378  0.4526  0.2646 -34.2524 -19.3872 -10.7488   \n",
       "\n",
       "        V9      V10  y  \n",
       "0  10.6120  152.891  0  \n",
       "1  33.3900  215.372  0  \n",
       "2   5.1600  324.141  0  \n",
       "3  19.8253  132.785  0  \n",
       "4  66.7550  144.690  1  "
      ]
     },
     "execution_count": 4,
     "metadata": {},
     "output_type": "execute_result"
    }
   ],
   "source": [
    "# convert categorical column to number\n",
    "df['y'] = 0\n",
    "df.loc[df.V11=='h', 'y'] = 1\n",
    "df = df.drop('V11', axis=1)\n",
    "\n",
    "# random shuffle data\n",
    "df = df.sample(frac=1, random_state=2).reset_index(drop=True)\n",
    "\n",
    "df.head()"
   ]
  },
  {
   "cell_type": "code",
   "execution_count": 5,
   "metadata": {
    "collapsed": true
   },
   "outputs": [],
   "source": [
    "# write data to matrix\n",
    "X = df.as_matrix(df.columns[:-1])\n",
    "Y = df.as_matrix(df.columns[-1:]).flatten()"
   ]
  },
  {
   "cell_type": "markdown",
   "metadata": {},
   "source": [
    "### Q2) Use any data transformations you deem appropriate (comment why if you use any)\n",
    "\n",
    "\n",
    "I tried several different out of the box pre-processing techniques to bring the scale of the inputs down and to center them around 0.\n",
    "\n",
    "sklearn's `StandardScaler` had the largest impact on accuracy (~4% gain)"
   ]
  },
  {
   "cell_type": "markdown",
   "metadata": {},
   "source": [
    "### Q3) Use any target metric you see fit (comment why)\n",
    "\n",
    "Each model optimised the binary cross entropy loss - which is standard for binary categorisation.\n",
    "\n",
    "And the models were compared for predictive accuracy - as that is the aim of the model.\n"
   ]
  },
  {
   "cell_type": "markdown",
   "metadata": {},
   "source": [
    "#### function to plot model loss and accuracy history"
   ]
  },
  {
   "cell_type": "code",
   "execution_count": 6,
   "metadata": {
    "collapsed": true
   },
   "outputs": [],
   "source": [
    "def plot_history(history):\n",
    "    \n",
    "    fig, ax = plt.subplots(1, 2, figsize=(12, 4), sharex=False, sharey=False)\n",
    "    \n",
    "    # summarize history for accuracy\n",
    "    ax[0].plot(history.history['acc'])\n",
    "    ax[0].plot(history.history['val_acc'])\n",
    "    ax[0].set_title('model accuracy')\n",
    "    ax[0].set_ylabel('accuracy')\n",
    "    ax[0].set_xlabel('epoch')\n",
    "    #ax[0, 0].legend(['train', 'test'], loc='upper left')\n",
    "\n",
    "    # summarize history for loss\n",
    "    ax[1].plot(history.history['loss'])\n",
    "    ax[1].plot(history.history['val_loss'])\n",
    "    ax[1].set_title('model loss')\n",
    "    ax[1].set_ylabel('loss')\n",
    "    ax[1].set_xlabel('epoch')\n",
    "    \n",
    "    plt.legend(['train', 'test'], loc='center right')\n",
    "    \n",
    "    sns.despine()\n",
    "    plt.show()\n",
    "    \n"
   ]
  },
  {
   "cell_type": "markdown",
   "metadata": {},
   "source": [
    "### Run the model\n",
    "\n",
    "Here we use 10 fold cross validation"
   ]
  },
  {
   "cell_type": "code",
   "execution_count": 7,
   "metadata": {},
   "outputs": [
    {
     "name": "stdout",
     "output_type": "stream",
     "text": [
      "acc: 87.86%\n",
      "acc: 88.33%\n",
      "acc: 87.22%\n",
      "acc: 87.22%\n",
      "acc: 88.07%\n",
      "acc: 88.49%\n",
      "acc: 86.54%\n",
      "acc: 88.22%\n",
      "acc: 86.85%\n",
      "acc: 86.64%\n"
     ]
    }
   ],
   "source": [
    "# define 10-fold cross validation test harness\n",
    "kfold = StratifiedKFold(n_splits=10, shuffle=True, random_state=7)\n",
    "cvscores = []\n",
    "for train, test in kfold.split(X, Y):\n",
    "    \n",
    "    # apply standard scaler\n",
    "    scaler = StandardScaler()\n",
    "    X_train = scaler.fit_transform(X[train])\n",
    "    X_test = scaler.transform(X[test])\n",
    "    \n",
    "    # create model\n",
    "    model = Sequential()\n",
    "    model.add(Dense(140, input_dim=10, activation='relu'))\n",
    "    model.add(Dense(1, activation='sigmoid'))\n",
    "    \n",
    "    # Compile model\n",
    "    model.compile(loss='binary_crossentropy', optimizer='adam', metrics=['accuracy'])\n",
    "    \n",
    "    # Fit the model\n",
    "    model.fit(X_train, Y[train], epochs=50, batch_size=10, verbose=0)    \n",
    "    \n",
    "    # evaluate the model\n",
    "    scores = model.evaluate(X_test, Y[test], verbose=0)\n",
    "    print('{}: {:.2f}%'.format(model.metrics_names[1], scores[1]*100))\n",
    "    cvscores.append(scores[1] * 100)   \n"
   ]
  },
  {
   "cell_type": "markdown",
   "metadata": {},
   "source": [
    "### Q4) Quote the performance of your classifier and produce an estimate of what the classifiers out of sample error would be. "
   ]
  },
  {
   "cell_type": "code",
   "execution_count": 8,
   "metadata": {},
   "outputs": [
    {
     "name": "stdout",
     "output_type": "stream",
     "text": [
      "Performance of the classifier\n",
      "\n",
      "Predicted accuracy : 87.54% (+/- 0.70)\n",
      "Out of sample error: 12.46%\n"
     ]
    }
   ],
   "source": [
    "print('Performance of the classifier\\n')\n",
    "print('Predicted accuracy : {:.2f}% (+/- {:.2f})'.format(np.mean(cvscores), np.std(cvscores)))\n",
    "cverrors = 100 - np.array(cvscores)\n",
    "print('Out of sample error: {:.2f}%'.format(np.mean(cverrors)))"
   ]
  },
  {
   "cell_type": "markdown",
   "metadata": {},
   "source": [
    "### Rerun the model once for training history example"
   ]
  },
  {
   "cell_type": "code",
   "execution_count": 9,
   "metadata": {
    "collapsed": true
   },
   "outputs": [],
   "source": [
    "# apply standard scaler\n",
    "scaler = StandardScaler()\n",
    "scaled = scaler.fit_transform(X)\n",
    "\n",
    "# create model\n",
    "model = Sequential()\n",
    "model.add(Dense(140, input_dim=10, activation='relu'))\n",
    "model.add(Dense(1, activation='sigmoid'))\n",
    "\n",
    "# Compile model\n",
    "model.compile(loss='binary_crossentropy', optimizer='adam', metrics=['accuracy'])\n",
    "\n",
    "# Fit the model\n",
    "history = model.fit(scaled, Y, validation_split=0.5, epochs=50, batch_size=20, verbose=0)"
   ]
  },
  {
   "cell_type": "code",
   "execution_count": 10,
   "metadata": {},
   "outputs": [
    {
     "data": {
      "image/png": "[encoded data removed]",
      "text/plain": [
       "<matplotlib.figure.Figure at 0x1973cec0d30>"
      ]
     },
     "metadata": {},
     "output_type": "display_data"
    }
   ],
   "source": [
    "plot_history(history)"
   ]
  },
  {
   "cell_type": "markdown",
   "metadata": {},
   "source": [
    "### Q4) contd. If you’re taking short cuts outline what a solution with more time would entail.\n",
    "\n",
    "I have not determined if there are overlapping records between the two categories. Which would put a hard limit on the accuracy of the model.\n",
    "\n",
    "More time should be spent investigating possible transformations of the features. There is a very clear structure to the data. It looks like the data may represent slices from the surface of a 3d object. In which case a set of non-linear transformations for each feature could help. Or if the geometry of the data cannot be identified, a form of feature extraction such as an Isomap could improve accuracy.\n",
    "\n",
    "There would be more scope for experimentation with rescaling and a more systematic effort to tune the alogorithm.\n",
    "\n",
    "Convolution layers might help if this is a shape recognition problem.\n"
   ]
  },
  {
   "cell_type": "markdown",
   "metadata": {},
   "source": [
    "### Q5) Produce a ROC curve for your predictions"
   ]
  },
  {
   "cell_type": "code",
   "execution_count": 11,
   "metadata": {
    "collapsed": true
   },
   "outputs": [],
   "source": [
    "# get the predictions\n",
    "model_pred = model.predict(X_test)\n",
    "\n",
    "# get false and true positive rates\n",
    "fpr, tpr, _ = roc_curve(Y[test], model_pred)\n",
    "\n",
    "# calculate area under the curve\n",
    "roc_auc = auc(fpr, tpr)"
   ]
  },
  {
   "cell_type": "code",
   "execution_count": 14,
   "metadata": {},
   "outputs": [
    {
     "data": {
      "image/png": "[encoded data removed]",
      "text/plain": [
       "<matplotlib.figure.Figure at 0x1974d8082e8>"
      ]
     },
     "metadata": {},
     "output_type": "display_data"
    }
   ],
   "source": [
    "# plot the ROC curve\n",
    "\n",
    "plt.plot(fpr, tpr)\n",
    "plt.xlabel('False positive rate')\n",
    "plt.ylabel('True positive rate')\n",
    "plt.title('ROC Curve, AUC={:.2f}'.format(roc_auc))\n",
    "\n",
    "sns.despine()\n",
    "plt.show()"
   ]
  },
  {
   "cell_type": "code",
   "execution_count": null,
   "metadata": {
    "collapsed": true
   },
   "outputs": [],
   "source": []
  }
 ],
 "metadata": {
  "kernelspec": {
   "display_name": "Python 3",
   "language": "python",
   "name": "python3"
  },
  "language_info": {
   "codemirror_mode": {
    "name": "ipython",
    "version": 3
   },
   "file_extension": ".py",
   "mimetype": "text/x-python",
   "name": "python",
   "nbconvert_exporter": "python",
   "pygments_lexer": "ipython3",
   "version": "3.6.4"
  }
 },
 "nbformat": 4,
 "nbformat_minor": 2
}
